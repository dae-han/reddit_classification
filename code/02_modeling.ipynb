{
 "cells": [
  {
   "cell_type": "markdown",
   "metadata": {},
   "source": [
    "# Imports"
   ]
  },
  {
   "cell_type": "code",
   "execution_count": 33,
   "metadata": {},
   "outputs": [],
   "source": [
    "import pandas as pd\n",
    "import numpy as np\n",
    "import matplotlib.pyplot as plt\n",
    "import seaborn as sns\n",
    "import glob\n",
    "\n",
    "from sklearn.feature_extraction.text import CountVectorizer,TfidfVectorizer,ENGLISH_STOP_WORDS\n",
    "from sklearn.model_selection import GridSearchCV, train_test_split, cross_val_score\n",
    "from sklearn.pipeline import Pipeline\n",
    "from sklearn.linear_model import LogisticRegression\n",
    "from sklearn.preprocessing import StandardScaler\n",
    "from sklearn.metrics import confusion_matrix, roc_auc_score\n",
    "\n",
    "from nltk.stem.porter import PorterStemmer\n",
    "from nltk.stem import WordNetLemmatizer\n",
    "\n",
    "%matplotlib inline"
   ]
  },
  {
   "cell_type": "markdown",
   "metadata": {},
   "source": [
    "### Merge all scraped data"
   ]
  },
  {
   "cell_type": "code",
   "execution_count": 34,
   "metadata": {},
   "outputs": [],
   "source": [
    "# Get name of all csv files in datas list\n",
    "# https://docs.python.org/2/library/glob.html\n",
    "datas = glob.glob('../data/web_data/*.csv')"
   ]
  },
  {
   "cell_type": "code",
   "execution_count": 35,
   "metadata": {},
   "outputs": [],
   "source": [
    "# Merge all data 'data' directory in one directory\n",
    "df = pd.concat([pd.read_csv(data) for data in datas])"
   ]
  },
  {
   "cell_type": "code",
   "execution_count": 36,
   "metadata": {},
   "outputs": [
    {
     "data": {
      "text/plain": [
       "(7186, 6)"
      ]
     },
     "execution_count": 36,
     "metadata": {},
     "output_type": "execute_result"
    }
   ],
   "source": [
    "df.shape"
   ]
  },
  {
   "cell_type": "markdown",
   "metadata": {},
   "source": [
    "# Macro Exploration + Data cleaning"
   ]
  },
  {
   "cell_type": "code",
   "execution_count": 37,
   "metadata": {},
   "outputs": [],
   "source": [
    "# Sort the dataframe by 'title' and 'age' in ascending order\n",
    "df = df.sort_values(by = ['title', 'age'], ascending=False)"
   ]
  },
  {
   "cell_type": "code",
   "execution_count": 38,
   "metadata": {},
   "outputs": [
    {
     "data": {
      "text/html": [
       "<div>\n",
       "<style scoped>\n",
       "    .dataframe tbody tr th:only-of-type {\n",
       "        vertical-align: middle;\n",
       "    }\n",
       "\n",
       "    .dataframe tbody tr th {\n",
       "        vertical-align: top;\n",
       "    }\n",
       "\n",
       "    .dataframe thead th {\n",
       "        text-align: right;\n",
       "    }\n",
       "</style>\n",
       "<table border=\"1\" class=\"dataframe\">\n",
       "  <thead>\n",
       "    <tr style=\"text-align: right;\">\n",
       "      <th></th>\n",
       "      <th>title</th>\n",
       "      <th>body</th>\n",
       "      <th>coms</th>\n",
       "      <th>num_coms</th>\n",
       "      <th>age</th>\n",
       "      <th>subreddit</th>\n",
       "    </tr>\n",
       "  </thead>\n",
       "  <tbody>\n",
       "    <tr>\n",
       "      <th>540</th>\n",
       "      <td>🧡moody autumn-themed instrumental piano🧡 hand-...</td>\n",
       "      <td>NaN</td>\n",
       "      <td>0</td>\n",
       "      <td>0</td>\n",
       "      <td>7.486231</td>\n",
       "      <td>spotify</td>\n",
       "    </tr>\n",
       "    <tr>\n",
       "      <th>441</th>\n",
       "      <td>🧡moody autumn-themed instrumental piano🧡 hand-...</td>\n",
       "      <td>NaN</td>\n",
       "      <td>0</td>\n",
       "      <td>0</td>\n",
       "      <td>6.369030</td>\n",
       "      <td>spotify</td>\n",
       "    </tr>\n",
       "    <tr>\n",
       "      <th>576</th>\n",
       "      <td>🔥🔥🔥Charli XCX, Mick Jagger, Purity Ring and AL...</td>\n",
       "      <td>NaN</td>\n",
       "      <td>['###fresh🍋\\n\\n*created by: pep.garcia*\\n\\n44 ...</td>\n",
       "      <td>1</td>\n",
       "      <td>809.387971</td>\n",
       "      <td>spotify</td>\n",
       "    </tr>\n",
       "    <tr>\n",
       "      <th>453</th>\n",
       "      <td>📀 TUÑONISM (Progressive House, Tech House)</td>\n",
       "      <td>NaN</td>\n",
       "      <td>0</td>\n",
       "      <td>0</td>\n",
       "      <td>112.623654</td>\n",
       "      <td>spotify</td>\n",
       "    </tr>\n",
       "    <tr>\n",
       "      <th>732</th>\n",
       "      <td>👍</td>\n",
       "      <td>NaN</td>\n",
       "      <td>[\"How'd you get the black mode on Android?\"]</td>\n",
       "      <td>2</td>\n",
       "      <td>181.493080</td>\n",
       "      <td>apple_music</td>\n",
       "    </tr>\n",
       "  </tbody>\n",
       "</table>\n",
       "</div>"
      ],
      "text/plain": [
       "                                                 title body  \\\n",
       "540  🧡moody autumn-themed instrumental piano🧡 hand-...  NaN   \n",
       "441  🧡moody autumn-themed instrumental piano🧡 hand-...  NaN   \n",
       "576  🔥🔥🔥Charli XCX, Mick Jagger, Purity Ring and AL...  NaN   \n",
       "453         📀 TUÑONISM (Progressive House, Tech House)  NaN   \n",
       "732                                                  👍  NaN   \n",
       "\n",
       "                                                  coms  num_coms         age  \\\n",
       "540                                                  0         0    7.486231   \n",
       "441                                                  0         0    6.369030   \n",
       "576  ['###fresh🍋\\n\\n*created by: pep.garcia*\\n\\n44 ...         1  809.387971   \n",
       "453                                                  0         0  112.623654   \n",
       "732       [\"How'd you get the black mode on Android?\"]         2  181.493080   \n",
       "\n",
       "       subreddit  \n",
       "540      spotify  \n",
       "441      spotify  \n",
       "576      spotify  \n",
       "453      spotify  \n",
       "732  apple_music  "
      ]
     },
     "execution_count": 38,
     "metadata": {},
     "output_type": "execute_result"
    }
   ],
   "source": [
    "# Check the sorted dataset\n",
    "df.head()"
   ]
  },
  {
   "cell_type": "markdown",
   "metadata": {},
   "source": [
    "### Duplicates\n",
    "\n",
    "It seems like there are a lot of duplicate tweets. Drop the duplicates and see how many rows the dataset end up with."
   ]
  },
  {
   "cell_type": "code",
   "execution_count": 39,
   "metadata": {},
   "outputs": [],
   "source": [
    "# keep first row of the duplicate values and drop the rest\n",
    "## (when age is the largest, it is the most recently collected data and it appears first on the dataset)\n",
    "\n",
    "df = df.drop_duplicates(subset=['title'], keep='first').reset_index(drop=True)"
   ]
  },
  {
   "cell_type": "code",
   "execution_count": 40,
   "metadata": {},
   "outputs": [
    {
     "data": {
      "text/plain": [
       "(4456, 6)"
      ]
     },
     "execution_count": 40,
     "metadata": {},
     "output_type": "execute_result"
    }
   ],
   "source": [
    "# check the size of the final dataset\n",
    "df.shape"
   ]
  },
  {
   "cell_type": "markdown",
   "metadata": {},
   "source": [
    "The dataset size went down from 7186 to 4456 after removing duplicates."
   ]
  },
  {
   "cell_type": "markdown",
   "metadata": {},
   "source": [
    "### Target class ratio"
   ]
  },
  {
   "cell_type": "code",
   "execution_count": 41,
   "metadata": {},
   "outputs": [
    {
     "data": {
      "text/plain": [
       "spotify        0.574955\n",
       "apple_music    0.425045\n",
       "Name: subreddit, dtype: float64"
      ]
     },
     "execution_count": 41,
     "metadata": {},
     "output_type": "execute_result"
    }
   ],
   "source": [
    "# Check if the target class is balanced.\n",
    "df['subreddit'].value_counts(normalize = True)"
   ]
  },
  {
   "cell_type": "markdown",
   "metadata": {},
   "source": [
    "Target class balance is about 6 to 4. This is slightly inblanced. `straify = y` will be used for train_test_split() handle the inblance."
   ]
  },
  {
   "cell_type": "markdown",
   "metadata": {},
   "source": [
    "### Null value imputation"
   ]
  },
  {
   "cell_type": "code",
   "execution_count": 42,
   "metadata": {
    "scrolled": false
   },
   "outputs": [
    {
     "data": {
      "text/html": [
       "<div>\n",
       "<style scoped>\n",
       "    .dataframe tbody tr th:only-of-type {\n",
       "        vertical-align: middle;\n",
       "    }\n",
       "\n",
       "    .dataframe tbody tr th {\n",
       "        vertical-align: top;\n",
       "    }\n",
       "\n",
       "    .dataframe thead th {\n",
       "        text-align: right;\n",
       "    }\n",
       "</style>\n",
       "<table border=\"1\" class=\"dataframe\">\n",
       "  <thead>\n",
       "    <tr style=\"text-align: right;\">\n",
       "      <th></th>\n",
       "      <th>title</th>\n",
       "      <th>body</th>\n",
       "      <th>coms</th>\n",
       "      <th>num_coms</th>\n",
       "      <th>age</th>\n",
       "      <th>subreddit</th>\n",
       "    </tr>\n",
       "  </thead>\n",
       "  <tbody>\n",
       "    <tr>\n",
       "      <th>0</th>\n",
       "      <td>🧡moody autumn-themed instrumental piano🧡 hand-...</td>\n",
       "      <td>NaN</td>\n",
       "      <td>0</td>\n",
       "      <td>0</td>\n",
       "      <td>7.486231</td>\n",
       "      <td>spotify</td>\n",
       "    </tr>\n",
       "    <tr>\n",
       "      <th>1</th>\n",
       "      <td>🔥🔥🔥Charli XCX, Mick Jagger, Purity Ring and AL...</td>\n",
       "      <td>NaN</td>\n",
       "      <td>['###fresh🍋\\n\\n*created by: pep.garcia*\\n\\n44 ...</td>\n",
       "      <td>1</td>\n",
       "      <td>809.387971</td>\n",
       "      <td>spotify</td>\n",
       "    </tr>\n",
       "    <tr>\n",
       "      <th>2</th>\n",
       "      <td>📀 TUÑONISM (Progressive House, Tech House)</td>\n",
       "      <td>NaN</td>\n",
       "      <td>0</td>\n",
       "      <td>0</td>\n",
       "      <td>112.623654</td>\n",
       "      <td>spotify</td>\n",
       "    </tr>\n",
       "    <tr>\n",
       "      <th>3</th>\n",
       "      <td>👍</td>\n",
       "      <td>NaN</td>\n",
       "      <td>[\"How'd you get the black mode on Android?\"]</td>\n",
       "      <td>2</td>\n",
       "      <td>181.493080</td>\n",
       "      <td>apple_music</td>\n",
       "    </tr>\n",
       "    <tr>\n",
       "      <th>4</th>\n",
       "      <td>🎷🎅 Rather a lot of quality Christmas jazz for ...</td>\n",
       "      <td>NaN</td>\n",
       "      <td>['###Christmas jazz (for grown ups)\\n\\n*create...</td>\n",
       "      <td>1</td>\n",
       "      <td>316.416165</td>\n",
       "      <td>spotify</td>\n",
       "    </tr>\n",
       "  </tbody>\n",
       "</table>\n",
       "</div>"
      ],
      "text/plain": [
       "                                               title body  \\\n",
       "0  🧡moody autumn-themed instrumental piano🧡 hand-...  NaN   \n",
       "1  🔥🔥🔥Charli XCX, Mick Jagger, Purity Ring and AL...  NaN   \n",
       "2         📀 TUÑONISM (Progressive House, Tech House)  NaN   \n",
       "3                                                  👍  NaN   \n",
       "4  🎷🎅 Rather a lot of quality Christmas jazz for ...  NaN   \n",
       "\n",
       "                                                coms  num_coms         age  \\\n",
       "0                                                  0         0    7.486231   \n",
       "1  ['###fresh🍋\\n\\n*created by: pep.garcia*\\n\\n44 ...         1  809.387971   \n",
       "2                                                  0         0  112.623654   \n",
       "3       [\"How'd you get the black mode on Android?\"]         2  181.493080   \n",
       "4  ['###Christmas jazz (for grown ups)\\n\\n*create...         1  316.416165   \n",
       "\n",
       "     subreddit  \n",
       "0      spotify  \n",
       "1      spotify  \n",
       "2      spotify  \n",
       "3  apple_music  \n",
       "4      spotify  "
      ]
     },
     "execution_count": 42,
     "metadata": {},
     "output_type": "execute_result"
    }
   ],
   "source": [
    "df.head()"
   ]
  },
  {
   "cell_type": "code",
   "execution_count": 44,
   "metadata": {
    "scrolled": false
   },
   "outputs": [
    {
     "name": "stdout",
     "output_type": "stream",
     "text": [
      "<class 'pandas.core.frame.DataFrame'>\n",
      "RangeIndex: 4456 entries, 0 to 4455\n",
      "Data columns (total 6 columns):\n",
      "title        4456 non-null object\n",
      "body         2248 non-null object\n",
      "coms         4456 non-null object\n",
      "num_coms     4456 non-null int64\n",
      "age          4456 non-null float64\n",
      "subreddit    4456 non-null object\n",
      "dtypes: float64(1), int64(1), object(4)\n",
      "memory usage: 209.0+ KB\n"
     ]
    }
   ],
   "source": [
    "# Check the type of each column and see if there is null values\n",
    "df.info()"
   ]
  },
  {
   "cell_type": "markdown",
   "metadata": {},
   "source": [
    "2208 null values in `body` column are identified. The null values were caused when there was no written content in the body. Many reddit users share an image or a video without a written content. The null values were imputed with an empty string ('')."
   ]
  },
  {
   "cell_type": "code",
   "execution_count": 17,
   "metadata": {},
   "outputs": [],
   "source": [
    "# Replace na values in body with empty string\n",
    "## NA value in body means no text existed in the body\n",
    "\n",
    "df['body'] = df['body'].fillna('')"
   ]
  },
  {
   "cell_type": "code",
   "execution_count": 18,
   "metadata": {},
   "outputs": [
    {
     "name": "stdout",
     "output_type": "stream",
     "text": [
      "<class 'pandas.core.frame.DataFrame'>\n",
      "RangeIndex: 4456 entries, 0 to 4455\n",
      "Data columns (total 7 columns):\n",
      "title        4456 non-null object\n",
      "body         4456 non-null object\n",
      "coms         4456 non-null object\n",
      "num_coms     4456 non-null int64\n",
      "age          4456 non-null float64\n",
      "subreddit    4456 non-null object\n",
      "text         4456 non-null object\n",
      "dtypes: float64(1), int64(1), object(5)\n",
      "memory usage: 243.8+ KB\n"
     ]
    }
   ],
   "source": [
    "# Check the type of each column and see if there is null values\n",
    "df.info()"
   ]
  },
  {
   "cell_type": "markdown",
   "metadata": {},
   "source": [
    "# Data wrangling"
   ]
  },
  {
   "cell_type": "code",
   "execution_count": 19,
   "metadata": {},
   "outputs": [],
   "source": [
    "# Combine 'title' and 'body' into 'text'\n",
    "df['text'] = df['title'] + df['body']"
   ]
  },
  {
   "cell_type": "code",
   "execution_count": 20,
   "metadata": {},
   "outputs": [
    {
     "name": "stdout",
     "output_type": "stream",
     "text": [
      "<class 'pandas.core.frame.DataFrame'>\n",
      "RangeIndex: 4456 entries, 0 to 4455\n",
      "Data columns (total 7 columns):\n",
      "title        4456 non-null object\n",
      "body         4456 non-null object\n",
      "coms         4456 non-null object\n",
      "num_coms     4456 non-null int64\n",
      "age          4456 non-null float64\n",
      "subreddit    4456 non-null object\n",
      "text         4456 non-null object\n",
      "dtypes: float64(1), int64(1), object(5)\n",
      "memory usage: 243.8+ KB\n"
     ]
    }
   ],
   "source": [
    "df.info()"
   ]
  },
  {
   "cell_type": "code",
   "execution_count": 22,
   "metadata": {},
   "outputs": [],
   "source": [
    "# Add target column from subreddit with spotify:1 and apple_music:0\n",
    "\n",
    "df['target'] = df['subreddit'].map({'spotify':1, 'apple_music':0})"
   ]
  },
  {
   "cell_type": "code",
   "execution_count": 23,
   "metadata": {},
   "outputs": [],
   "source": [
    "# Grab 'text' and 'subreddit'(target) column for analysis\n",
    "\n",
    "df = df.loc[:,['text','target','num_coms','age']].copy()"
   ]
  },
  {
   "cell_type": "code",
   "execution_count": 24,
   "metadata": {},
   "outputs": [
    {
     "data": {
      "text/html": [
       "<div>\n",
       "<style scoped>\n",
       "    .dataframe tbody tr th:only-of-type {\n",
       "        vertical-align: middle;\n",
       "    }\n",
       "\n",
       "    .dataframe tbody tr th {\n",
       "        vertical-align: top;\n",
       "    }\n",
       "\n",
       "    .dataframe thead th {\n",
       "        text-align: right;\n",
       "    }\n",
       "</style>\n",
       "<table border=\"1\" class=\"dataframe\">\n",
       "  <thead>\n",
       "    <tr style=\"text-align: right;\">\n",
       "      <th></th>\n",
       "      <th>text</th>\n",
       "      <th>target</th>\n",
       "      <th>num_coms</th>\n",
       "      <th>age</th>\n",
       "    </tr>\n",
       "  </thead>\n",
       "  <tbody>\n",
       "    <tr>\n",
       "      <th>0</th>\n",
       "      <td>🧡moody autumn-themed instrumental piano🧡 hand-...</td>\n",
       "      <td>1</td>\n",
       "      <td>0</td>\n",
       "      <td>7.486231</td>\n",
       "    </tr>\n",
       "    <tr>\n",
       "      <th>1</th>\n",
       "      <td>🔥🔥🔥Charli XCX, Mick Jagger, Purity Ring and AL...</td>\n",
       "      <td>1</td>\n",
       "      <td>1</td>\n",
       "      <td>809.387971</td>\n",
       "    </tr>\n",
       "    <tr>\n",
       "      <th>2</th>\n",
       "      <td>📀 TUÑONISM (Progressive House, Tech House)</td>\n",
       "      <td>1</td>\n",
       "      <td>0</td>\n",
       "      <td>112.623654</td>\n",
       "    </tr>\n",
       "    <tr>\n",
       "      <th>3</th>\n",
       "      <td>👍</td>\n",
       "      <td>0</td>\n",
       "      <td>2</td>\n",
       "      <td>181.493080</td>\n",
       "    </tr>\n",
       "    <tr>\n",
       "      <th>4</th>\n",
       "      <td>🎷🎅 Rather a lot of quality Christmas jazz for ...</td>\n",
       "      <td>1</td>\n",
       "      <td>1</td>\n",
       "      <td>316.416165</td>\n",
       "    </tr>\n",
       "  </tbody>\n",
       "</table>\n",
       "</div>"
      ],
      "text/plain": [
       "                                                text  target  num_coms  \\\n",
       "0  🧡moody autumn-themed instrumental piano🧡 hand-...       1         0   \n",
       "1  🔥🔥🔥Charli XCX, Mick Jagger, Purity Ring and AL...       1         1   \n",
       "2         📀 TUÑONISM (Progressive House, Tech House)       1         0   \n",
       "3                                                  👍       0         2   \n",
       "4  🎷🎅 Rather a lot of quality Christmas jazz for ...       1         1   \n",
       "\n",
       "          age  \n",
       "0    7.486231  \n",
       "1  809.387971  \n",
       "2  112.623654  \n",
       "3  181.493080  \n",
       "4  316.416165  "
      ]
     },
     "execution_count": 24,
     "metadata": {},
     "output_type": "execute_result"
    }
   ],
   "source": [
    "df.head()"
   ]
  },
  {
   "cell_type": "markdown",
   "metadata": {},
   "source": [
    "\n",
    "# Save the cleaned dataframe as csv"
   ]
  },
  {
   "cell_type": "code",
   "execution_count": 25,
   "metadata": {},
   "outputs": [],
   "source": [
    "df.to_csv('../data/fin_data_101519.csv', index= False )"
   ]
  },
  {
   "cell_type": "code",
   "execution_count": 26,
   "metadata": {},
   "outputs": [],
   "source": [
    "df['text'] = df['text'].apply(lambda x: x.lower())"
   ]
  },
  {
   "cell_type": "code",
   "execution_count": 27,
   "metadata": {},
   "outputs": [
    {
     "data": {
      "text/html": [
       "<div>\n",
       "<style scoped>\n",
       "    .dataframe tbody tr th:only-of-type {\n",
       "        vertical-align: middle;\n",
       "    }\n",
       "\n",
       "    .dataframe tbody tr th {\n",
       "        vertical-align: top;\n",
       "    }\n",
       "\n",
       "    .dataframe thead th {\n",
       "        text-align: right;\n",
       "    }\n",
       "</style>\n",
       "<table border=\"1\" class=\"dataframe\">\n",
       "  <thead>\n",
       "    <tr style=\"text-align: right;\">\n",
       "      <th></th>\n",
       "      <th>text</th>\n",
       "      <th>target</th>\n",
       "      <th>num_coms</th>\n",
       "      <th>age</th>\n",
       "    </tr>\n",
       "  </thead>\n",
       "  <tbody>\n",
       "    <tr>\n",
       "      <th>0</th>\n",
       "      <td>🧡moody autumn-themed instrumental piano🧡 hand-...</td>\n",
       "      <td>1</td>\n",
       "      <td>0</td>\n",
       "      <td>7.486231</td>\n",
       "    </tr>\n",
       "    <tr>\n",
       "      <th>1</th>\n",
       "      <td>🔥🔥🔥charli xcx, mick jagger, purity ring and al...</td>\n",
       "      <td>1</td>\n",
       "      <td>1</td>\n",
       "      <td>809.387971</td>\n",
       "    </tr>\n",
       "    <tr>\n",
       "      <th>2</th>\n",
       "      <td>📀 tuñonism (progressive house, tech house)</td>\n",
       "      <td>1</td>\n",
       "      <td>0</td>\n",
       "      <td>112.623654</td>\n",
       "    </tr>\n",
       "    <tr>\n",
       "      <th>3</th>\n",
       "      <td>👍</td>\n",
       "      <td>0</td>\n",
       "      <td>2</td>\n",
       "      <td>181.493080</td>\n",
       "    </tr>\n",
       "    <tr>\n",
       "      <th>4</th>\n",
       "      <td>🎷🎅 rather a lot of quality christmas jazz for ...</td>\n",
       "      <td>1</td>\n",
       "      <td>1</td>\n",
       "      <td>316.416165</td>\n",
       "    </tr>\n",
       "  </tbody>\n",
       "</table>\n",
       "</div>"
      ],
      "text/plain": [
       "                                                text  target  num_coms  \\\n",
       "0  🧡moody autumn-themed instrumental piano🧡 hand-...       1         0   \n",
       "1  🔥🔥🔥charli xcx, mick jagger, purity ring and al...       1         1   \n",
       "2         📀 tuñonism (progressive house, tech house)       1         0   \n",
       "3                                                  👍       0         2   \n",
       "4  🎷🎅 rather a lot of quality christmas jazz for ...       1         1   \n",
       "\n",
       "          age  \n",
       "0    7.486231  \n",
       "1  809.387971  \n",
       "2  112.623654  \n",
       "3  181.493080  \n",
       "4  316.416165  "
      ]
     },
     "execution_count": 27,
     "metadata": {},
     "output_type": "execute_result"
    }
   ],
   "source": [
    "df.head()"
   ]
  },
  {
   "cell_type": "markdown",
   "metadata": {},
   "source": [
    "# Train Test Split\n",
    "- As the target class has a ratio of 6:5, use `stratify = y` to mitigate the class inbalance."
   ]
  },
  {
   "cell_type": "code",
   "execution_count": 28,
   "metadata": {},
   "outputs": [],
   "source": [
    "X = df['text']\n",
    "y = df['target']"
   ]
  },
  {
   "cell_type": "code",
   "execution_count": 29,
   "metadata": {},
   "outputs": [],
   "source": [
    "X_train, X_test, y_train, y_test = train_test_split(X, y, stratify=y)"
   ]
  },
  {
   "cell_type": "markdown",
   "metadata": {},
   "source": [
    "# Preliminary model \n",
    "- I tried studying frequent words from stemming, lemmatizing with different regular expression.\n",
    "- No significant insight were found from the study due to the big amount of words that were insignificant.\n",
    "- In this section, I am modeling without further EDA to have a glance at the dataset and identify insignificant words to include in my stopwords list."
   ]
  },
  {
   "cell_type": "markdown",
   "metadata": {},
   "source": [
    "## Functions\n",
    "\n",
    "\n",
    "### 1. Function: coef_df()\n",
    "    Return a dataframe with columns\n",
    "        1. words\n",
    "        2. coefficient weight (log odd)\n",
    "        3. exponent of coefficient weight (odd)\n",
    "    from a gridsearch model with a vectorizer and a logistic regression.\n",
    "____\n",
    "**Parameters**\n",
    "- `gridsearch_model`: *GridSearch model* | gridSearch model that has been fitted to `X_train` and `y_train`\n",
    "- `X_train`: *dataframe* | features\n",
    "- `y_train`: *series* | target\n",
    "- `vect_str`: *string* | vectorizer name in the `gridsearch_model`\n",
    "- `reg_str`: *string* | estimator name in the `gridsearch_model`"
   ]
  },
  {
   "cell_type": "code",
   "execution_count": null,
   "metadata": {},
   "outputs": [],
   "source": [
    "def coef_df(gridsearch_model, X_train, y_train ,vect_str = 'cvec', reg_str = 'lr' ):\n",
    "\n",
    "    col_names = gridsearch_model.best_estimator_.named_steps[vect_str].get_feature_names()\n",
    "    col_coef = gridsearch_model.best_estimator_.named_steps[reg_str].coef_[0]\n",
    "\n",
    "    cvec_coef_df = pd.DataFrame({\n",
    "        'words' : col_names,\n",
    "        'coef' : col_coef,\n",
    "        'exp_coef': np.exp(col_coef)    \n",
    "    })\n",
    "    \n",
    "    return pd.DataFrame(cvec_coef_df)"
   ]
  },
  {
   "cell_type": "code",
   "execution_count": 25,
   "metadata": {
    "collapsed": true
   },
   "outputs": [],
   "source": [
    "def auc_roc_plot(gridsearch_model, X, y):\n",
    "    \"\"\"\n",
    "    Plot AUC ROC Plot\n",
    "        \n",
    "    \"\"\"    \n",
    "    \n",
    "    X_train, X_test, y_train, y_test = train_test_split(X, y)\n",
    "        \n",
    "    ths = np.linspace(0, 1, 200)\n",
    "    sens = []\n",
    "    fp_rate = []\n",
    "    pred_proba_df = pd.DataFrame(gridsearch_model.predict_proba(X_test))\n",
    "\n",
    "    # Calculate sensitivity and false positive rate\n",
    "    for th in ths:\n",
    "        preds = pred_proba_df.loc[:,[1]].applymap(lambda x: 1 if (x > th) else 0)\n",
    "         ##https://stackoverflow.com/questions/28716241/controlling-the-threshold-in-logistic-regression-in-scikit-learn\n",
    "\n",
    "        tn, fp, fn, tp = confusion_matrix(y_test, preds).ravel()\n",
    "\n",
    "        sens.append(tp / (tp+fn))\n",
    "        fp_rate.append(1 - (tn / (tn+fp)))\n",
    "\n",
    "    # Plot ROC curve.    \n",
    "    plt.figure(figsize = (15,5))\n",
    "\n",
    "    plt.plot(fp_rate, sens, label = 'ROC Curve')\n",
    "\n",
    "    plt.plot(ths,ths,label='baseline', linestyle='--', color='orange')\n",
    "\n",
    "    plt.title(f'AUC ROC Score: {round(roc_auc_score(y_test, pred_proba_df.loc[:,[1]]),3)}', fontsize = 25)\n",
    "    plt.xlabel('False Posive Rate (1 - Specificity)', fontsize = 18)\n",
    "    plt.ylabel('True Positive Rate (Sensitivity)', fontsize = 18)\n",
    "    plt.xticks(fontsize = 15)\n",
    "    plt.yticks(fontsize = 15)\n",
    "    plt.legend(fontsize = 15)\n",
    "    plt.tight_layout() "
   ]
  },
  {
   "cell_type": "code",
   "execution_count": 80,
   "metadata": {
    "collapsed": true
   },
   "outputs": [],
   "source": [
    "def best_stopwords(gridsearch_model, X, y, n = 0.05, grab_all = False, vect_str = 'cvec', reg_str = 'lr'):\n",
    "    \"\"\"\n",
    "    Return data frames with words that show up on both reddits\n",
    "        in which the exponent of the coefficient from the model is less than 'n'\n",
    "        and return\n",
    "            1. frequency of the word in each target classes\n",
    "            2. frequency of the word per total posts in each target classes\n",
    "            3. frequency of the word per total posts difference.\n",
    "    \n",
    "    Parameters:\n",
    "        - cvec_gridsearch: gridsearch model with a vectorizer and a log. regression \n",
    "        - n: weight coefficient threshold \n",
    "        - vect_str: name of the vectorizer in 'gridsearch_model'\n",
    "        - reg_str: name of the regression model in 'gridsearch_model'\n",
    "     \"\"\"\n",
    "    \n",
    "    # Grab coefficient weight dataframe\n",
    "    coef = coef_df(gridsearch_model, X, y, vect_str = vect_str, reg_str = reg_str)\n",
    "    \n",
    "    # Make dataframe with words that has coefficient weight less than n\n",
    "    if grab_all:\n",
    "        useless_df = coef\n",
    "    else:\n",
    "        useless_df = coef.loc[(coef['exp_coef'] >= 1 - n) & (coef['exp_coef'] <= 1 + n)]\n",
    "\n",
    "    # Make dataframe with vectorized word and target\n",
    "    feature_vec = gridsearch_model.best_estimator_.named_steps[vect_str].transform(X).toarray()\n",
    "    feature_names = gridsearch_model.best_estimator_.named_steps[vect_str].get_feature_names()\n",
    "    feature_df = pd.DataFrame(feature_vec, columns=feature_names)\n",
    "    func_df = pd.concat([feature_df, y], axis=1)\n",
    "    \n",
    "    # Add percetage \n",
    "    spot_1_post_num = func_df['target'].value_counts()[1]\n",
    "    app_0_post_num = func_df['target'].value_counts()[0]\n",
    "    useless_by_target = func_df.groupby('target').sum().loc[:, list(useless_df['words'])].T\n",
    "    \n",
    "    useless_by_target['0_perc'] = useless_by_target[0]/app_0_post_num * 100\n",
    "    useless_by_target['1_perc'] = useless_by_target[1]/spot_1_post_num * 100\n",
    "    useless_by_target['abs_perc_diff'] = \\\n",
    "            abs(useless_by_target['0_perc'] - useless_by_target['1_perc'])\n",
    "    \n",
    "    return useless_by_target.sort_values(by = 'abs_perc_diff', ascending =  False)\n",
    "    "
   ]
  },
  {
   "cell_type": "code",
   "execution_count": 27,
   "metadata": {
    "collapsed": true
   },
   "outputs": [],
   "source": [
    "# Contruct stopwords\n",
    "\n",
    "stopwords = list(ENGLISH_STOP_WORDS)"
   ]
  },
  {
   "cell_type": "markdown",
   "metadata": {},
   "source": [
    "#### Count Vectorizer"
   ]
  },
  {
   "cell_type": "code",
   "execution_count": 28,
   "metadata": {
    "collapsed": true
   },
   "outputs": [],
   "source": [
    "# Contruct pipeline for tfid vectorizer\n",
    "cvec_pipe = Pipeline([\n",
    "    ('cvec', CountVectorizer(stop_words = stopwords)),\n",
    "    ('lr', LogisticRegression()),\n",
    "])"
   ]
  },
  {
   "cell_type": "code",
   "execution_count": 29,
   "metadata": {
    "collapsed": true,
    "scrolled": false
   },
   "outputs": [],
   "source": [
    "cvec_pipe.get_params();"
   ]
  },
  {
   "cell_type": "code",
   "execution_count": 30,
   "metadata": {
    "collapsed": true
   },
   "outputs": [],
   "source": [
    "# Define dictionary of parameters.\n",
    "cvec_params = {\n",
    "    'cvec__max_df': [0.9, 0.95], # max_df: if the word shows up more than (0~1) of the posts(rows), ignore\n",
    "    'cvec__min_df': [3, 5], # min_df: only consider the word shows up more than x posts (rows)\n",
    "    'cvec__ngram_range': [(1,1), (2,2)],\n",
    "    #'cvec__stop_words': [stopwords, stopwords[5:]], # all words in the list passed to stop_words will be removed.\n",
    "    'lr__C': [1, 10e10],\n",
    "    'lr__random_state': [42, 121]\n",
    "}"
   ]
  },
  {
   "cell_type": "code",
   "execution_count": 31,
   "metadata": {
    "collapsed": true
   },
   "outputs": [],
   "source": [
    "# Instantiate our GridSearchCV object.\n",
    "cvec_gridsearch = GridSearchCV(cvec_pipe, # What is the model we want to fit?\n",
    "                               cvec_params, # What is the dictionary of hyperparameters?\n",
    "                               cv=5) # What number of folds in CV will we use?\n",
    "#                                verbose=2"
   ]
  },
  {
   "cell_type": "code",
   "execution_count": 32,
   "metadata": {
    "scrolled": false
   },
   "outputs": [
    {
     "data": {
      "text/plain": [
       "GridSearchCV(cv=5, error_score='raise',\n",
       "       estimator=Pipeline(memory=None,\n",
       "     steps=[('cvec', CountVectorizer(analyzer='word', binary=False, decode_error='strict',\n",
       "        dtype=<class 'numpy.int64'>, encoding='utf-8', input='content',\n",
       "        lowercase=True, max_df=1.0, max_features=None, min_df=1,\n",
       "        ngram_range=(1, 1), preprocessor=None,\n",
       "        stop_words=['about', '...ty='l2', random_state=None, solver='liblinear', tol=0.0001,\n",
       "          verbose=0, warm_start=False))]),\n",
       "       fit_params=None, iid=True, n_jobs=1,\n",
       "       param_grid={'cvec__max_df': [0.9, 0.95], 'cvec__min_df': [3, 5], 'cvec__ngram_range': [(1, 1), (2, 2)], 'lr__C': [1, 100000000000.0], 'lr__random_state': [42, 121]},\n",
       "       pre_dispatch='2*n_jobs', refit=True, return_train_score='warn',\n",
       "       scoring=None, verbose=0)"
      ]
     },
     "execution_count": 32,
     "metadata": {},
     "output_type": "execute_result"
    }
   ],
   "source": [
    "cvec_gridsearch.fit(X_train, y_train)"
   ]
  },
  {
   "cell_type": "code",
   "execution_count": 33,
   "metadata": {
    "scrolled": true
   },
   "outputs": [
    {
     "data": {
      "text/plain": [
       "{'cvec__max_df': 0.9,\n",
       " 'cvec__min_df': 5,\n",
       " 'cvec__ngram_range': (1, 1),\n",
       " 'lr__C': 1,\n",
       " 'lr__random_state': 42}"
      ]
     },
     "execution_count": 33,
     "metadata": {},
     "output_type": "execute_result"
    }
   ],
   "source": [
    "cvec_gridsearch.best_params_"
   ]
  },
  {
   "cell_type": "code",
   "execution_count": 34,
   "metadata": {},
   "outputs": [
    {
     "data": {
      "text/plain": [
       "0.9494229463679565"
      ]
     },
     "execution_count": 34,
     "metadata": {},
     "output_type": "execute_result"
    }
   ],
   "source": [
    "cvec_gridsearch.score(X_train, y_train)"
   ]
  },
  {
   "cell_type": "code",
   "execution_count": 35,
   "metadata": {},
   "outputs": [
    {
     "data": {
      "text/plain": [
       "0.8268839103869654"
      ]
     },
     "execution_count": 35,
     "metadata": {},
     "output_type": "execute_result"
    }
   ],
   "source": [
    "cvec_gridsearch.score(X_test, y_test)"
   ]
  },
  {
   "cell_type": "markdown",
   "metadata": {},
   "source": [
    "### AUC ROC Curve "
   ]
  },
  {
   "cell_type": "code",
   "execution_count": 36,
   "metadata": {
    "scrolled": false
   },
   "outputs": [
    {
     "data": {
      "image/png": "[encoded data removed]",
      "text/plain": [
       "<Figure size 1080x360 with 1 Axes>"
      ]
     },
     "metadata": {
      "needs_background": "light"
     },
     "output_type": "display_data"
    }
   ],
   "source": [
    "auc_roc_plot(cvec_gridsearch, X, y)"
   ]
  },
  {
   "cell_type": "markdown",
   "metadata": {},
   "source": [
    "### Gett custom stopwords using 'best_stopwords()' function"
   ]
  },
  {
   "cell_type": "code",
   "execution_count": 37,
   "metadata": {},
   "outputs": [
    {
     "data": {
      "text/plain": [
       "GridSearchCV(cv=5, error_score='raise',\n",
       "       estimator=Pipeline(memory=None,\n",
       "     steps=[('cvec', CountVectorizer(analyzer='word', binary=False, decode_error='strict',\n",
       "        dtype=<class 'numpy.int64'>, encoding='utf-8', input='content',\n",
       "        lowercase=True, max_df=1.0, max_features=None, min_df=1,\n",
       "        ngram_range=(1, 1), preprocessor=None,\n",
       "        stop_words=['about', '...ty='l2', random_state=None, solver='liblinear', tol=0.0001,\n",
       "          verbose=0, warm_start=False))]),\n",
       "       fit_params=None, iid=True, n_jobs=1,\n",
       "       param_grid={'cvec__max_df': [0.9, 0.95], 'cvec__min_df': [3, 5], 'cvec__ngram_range': [(1, 1), (2, 2)], 'lr__C': [1, 100000000000.0], 'lr__random_state': [42, 121]},\n",
       "       pre_dispatch='2*n_jobs', refit=True, return_train_score='warn',\n",
       "       scoring=None, verbose=0)"
      ]
     },
     "execution_count": 37,
     "metadata": {},
     "output_type": "execute_result"
    }
   ],
   "source": [
    "cvec_gridsearch.fit(X, y)"
   ]
  },
  {
   "cell_type": "code",
   "execution_count": 38,
   "metadata": {
    "collapsed": true
   },
   "outputs": [],
   "source": [
    "coef_df_005 = best_stopwords(cvec_gridsearch, X, y, n = 0.05 ,vect_str = 'cvec', reg_str = 'lr').copy()"
   ]
  },
  {
   "cell_type": "code",
   "execution_count": 39,
   "metadata": {
    "collapsed": true
   },
   "outputs": [],
   "source": [
    "stopwords_005 = list(coef_df_005.loc[coef_df_005['abs_perc_diff'] < 0.95 ].index)"
   ]
  },
  {
   "cell_type": "code",
   "execution_count": 40,
   "metadata": {},
   "outputs": [
    {
     "data": {
      "text/plain": [
       "319"
      ]
     },
     "execution_count": 40,
     "metadata": {},
     "output_type": "execute_result"
    }
   ],
   "source": [
    "len(stopwords_005)"
   ]
  },
  {
   "cell_type": "code",
   "execution_count": 41,
   "metadata": {
    "collapsed": true
   },
   "outputs": [],
   "source": [
    "coef_df_0025 = best_stopwords(cvec_gridsearch, X, y, n = 0.025 ,vect_str = 'cvec', reg_str = 'lr').copy()"
   ]
  },
  {
   "cell_type": "code",
   "execution_count": 42,
   "metadata": {
    "collapsed": true
   },
   "outputs": [],
   "source": [
    "stopwords_0025 = list(coef_df_0025.loc[coef_df_0025['abs_perc_diff'] < 0.95 ].index)"
   ]
  },
  {
   "cell_type": "code",
   "execution_count": 43,
   "metadata": {},
   "outputs": [
    {
     "data": {
      "text/plain": [
       "182"
      ]
     },
     "execution_count": 43,
     "metadata": {},
     "output_type": "execute_result"
    }
   ],
   "source": [
    "len(stopwords_0025)"
   ]
  },
  {
   "cell_type": "code",
   "execution_count": 44,
   "metadata": {
    "collapsed": true
   },
   "outputs": [],
   "source": [
    "coef_df_0005 = best_stopwords(cvec_gridsearch, X, y, n = 0.005 ,vect_str = 'cvec', reg_str = 'lr').copy()"
   ]
  },
  {
   "cell_type": "code",
   "execution_count": 45,
   "metadata": {
    "collapsed": true
   },
   "outputs": [],
   "source": [
    "stopwords_0005 = list(coef_df_0005.loc[coef_df_0005['abs_perc_diff'] < 0.95 ].index)"
   ]
  },
  {
   "cell_type": "code",
   "execution_count": 46,
   "metadata": {},
   "outputs": [
    {
     "data": {
      "text/plain": [
       "56"
      ]
     },
     "execution_count": 46,
     "metadata": {},
     "output_type": "execute_result"
    }
   ],
   "source": [
    "len(stopwords_0005)"
   ]
  },
  {
   "cell_type": "code",
   "execution_count": 47,
   "metadata": {
    "collapsed": true
   },
   "outputs": [],
   "source": [
    "coef_df_00025 = best_stopwords(cvec_gridsearch, X, y, n = 0.0025 ,vect_str = 'cvec', reg_str = 'lr').copy()"
   ]
  },
  {
   "cell_type": "code",
   "execution_count": 48,
   "metadata": {
    "collapsed": true
   },
   "outputs": [],
   "source": [
    "stopwords_00025 = list(coef_df_00025.loc[coef_df_00025['abs_perc_diff'] < 0.95 ].index)"
   ]
  },
  {
   "cell_type": "code",
   "execution_count": 49,
   "metadata": {},
   "outputs": [
    {
     "data": {
      "text/plain": [
       "38"
      ]
     },
     "execution_count": 49,
     "metadata": {},
     "output_type": "execute_result"
    }
   ],
   "source": [
    "len(stopwords_00025)"
   ]
  },
  {
   "cell_type": "markdown",
   "metadata": {},
   "source": [
    "---\n",
    "## Modeling"
   ]
  },
  {
   "cell_type": "markdown",
   "metadata": {},
   "source": [
    "### CountVectorizer model\n",
    "\n",
    "- **CountVectorizer** ('cvec')\n",
    "    - Stopwords: \n",
    "        1. 'stopwords': built-in stop word\n",
    "        2. 'stopwords' + ('stopwords_005', 'stopwords_0025', 'stopwords_0005', 'stopwords_00025')\n",
    "\n",
    "    - preprosessor:\n",
    "        1. PorterStemmer()\n",
    "        2. WordNetLemmatizer()\n",
    "        3. None\n",
    "\n",
    "    - max_df:\n",
    "        [0.85, 0.9, 0.95] \n",
    "        \n",
    "    - min_df: \n",
    "        [5, 10, 15, 20] \n",
    "        \n",
    "- **LogisticRegression** ('lr')\n",
    "    - C:\n",
    "       [1e-5, 1e-10, 1, 1e5 ,1e10],"
   ]
  },
  {
   "cell_type": "code",
   "execution_count": 50,
   "metadata": {
    "collapsed": true
   },
   "outputs": [],
   "source": [
    "# Make pipline for CountVectorizer + Logistic Regression model\n",
    "cvec_pipe = Pipeline([\n",
    "    ('cvec', CountVectorizer()),\n",
    "    ('lr', LogisticRegression())])"
   ]
  },
  {
   "cell_type": "code",
   "execution_count": 51,
   "metadata": {
    "collapsed": true
   },
   "outputs": [],
   "source": [
    "stemmer = PorterStemmer()\n",
    "lemmatizer = WordNetLemmatizer()"
   ]
  },
  {
   "cell_type": "code",
   "execution_count": 52,
   "metadata": {
    "collapsed": true
   },
   "outputs": [],
   "source": [
    "# Define dictionary of parameters.\n",
    "cvec_params = {\n",
    "    'cvec__stop_words': [stopwords, stopwords+stopwords_005 , stopwords+stopwords_0025,\n",
    "                         stopwords+stopwords_0005, stopwords+stopwords_00025],\n",
    "    'cvec__max_df': [0.85, 0.9, 0.95], # max_df: if the word shows up more than (0~1) of the posts(rows), ignore\n",
    "    'cvec__min_df': [5, 10, 15, 20], # min_df: only consider the word shows up more than x posts (rows)\n",
    "    'cvec__preprocessor': [stemmer.stem, lemmatizer.lemmatize],\n",
    "    'lr__C': [1e-5, 1e-10, 1, 1e5 ,1e10]\n",
    "}"
   ]
  },
  {
   "cell_type": "code",
   "execution_count": 53,
   "metadata": {
    "collapsed": true
   },
   "outputs": [],
   "source": [
    "# Instantiate our GridSearchCV object.\n",
    "cvec_gridsearch = GridSearchCV(cvec_pipe, # What is the model we want to fit?\n",
    "                               cvec_params, # What is the dictionary of hyperparameters?\n",
    "                               cv=5) # What number of folds in CV will we use?"
   ]
  },
  {
   "cell_type": "code",
   "execution_count": 54,
   "metadata": {
    "scrolled": false
   },
   "outputs": [
    {
     "data": {
      "text/plain": [
       "GridSearchCV(cv=5, error_score='raise',\n",
       "       estimator=Pipeline(memory=None,\n",
       "     steps=[('cvec', CountVectorizer(analyzer='word', binary=False, decode_error='strict',\n",
       "        dtype=<class 'numpy.int64'>, encoding='utf-8', input='content',\n",
       "        lowercase=True, max_df=1.0, max_features=None, min_df=1,\n",
       "        ngram_range=(1, 1), preprocessor=None, stop_words=None,\n",
       "        strip...ty='l2', random_state=None, solver='liblinear', tol=0.0001,\n",
       "          verbose=0, warm_start=False))]),\n",
       "       fit_params=None, iid=True, n_jobs=1,\n",
       "       param_grid={'cvec__stop_words': [['about', 'cry', 'if', 'anywhere', 'own', 'via', 'mine', 'bottom', 'might', 'de', 'except', 'more', 'has', 'fifteen', 'three', 'co', 'became', 'seeming', 'thin', 'beforehand', 'keep', 'hereafter', 'and', 'sometime', 'that', 'some', 'few', 'twenty', 'ten', 'my', 'mill...tLemmatizer.lemmatize of <WordNetLemmatizer>>], 'lr__C': [1e-05, 1e-10, 1, 100000.0, 10000000000.0]},\n",
       "       pre_dispatch='2*n_jobs', refit=True, return_train_score='warn',\n",
       "       scoring=None, verbose=0)"
      ]
     },
     "execution_count": 54,
     "metadata": {},
     "output_type": "execute_result"
    }
   ],
   "source": [
    "cvec_gridsearch.fit(X_train, y_train)"
   ]
  },
  {
   "cell_type": "code",
   "execution_count": 55,
   "metadata": {},
   "outputs": [
    {
     "data": {
      "image/png": "[encoded data removed]",
      "text/plain": [
       "<Figure size 1080x360 with 1 Axes>"
      ]
     },
     "metadata": {
      "needs_background": "light"
     },
     "output_type": "display_data"
    }
   ],
   "source": [
    "auc_roc_plot(cvec_gridsearch, X_test, y_test)"
   ]
  },
  {
   "cell_type": "code",
   "execution_count": 75,
   "metadata": {},
   "outputs": [
    {
     "name": "stdout",
     "output_type": "stream",
     "text": [
      "CountVectorizer model result:\n",
      "Train Score is 0.947\n",
      "Test Score is 0.832\n",
      "CV Score is 0.834\n"
     ]
    }
   ],
   "source": [
    "cvec_train_score = cvec_gridsearch.score(X_train, y_train)\n",
    "cvec_test_score = cvec_gridsearch.score(X_test, y_test)\n",
    "cvec_cv_score = cvec_gridsearch.best_score_\n",
    "print(\"CountVectorizer model result:\")\n",
    "print(f\"Train Score is {round(cvec_train_score,3)}\")\n",
    "print(f\"Test Score is {round(cvec_test_score,3)}\")\n",
    "print(f\"CV Score is {round(cvec_cv_score,3)}\")"
   ]
  },
  {
   "cell_type": "code",
   "execution_count": 58,
   "metadata": {},
   "outputs": [
    {
     "data": {
      "text/plain": [
       "319"
      ]
     },
     "execution_count": 58,
     "metadata": {},
     "output_type": "execute_result"
    }
   ],
   "source": [
    "# Checking which stopwords list were selected\n",
    "len(cvec_gridsearch.best_params_['cvec__stop_words'])-len(stopwords)\n",
    "# for cvec_gridsearch, 'stopwords_005' was selected"
   ]
  },
  {
   "cell_type": "code",
   "execution_count": 81,
   "metadata": {
    "collapsed": true
   },
   "outputs": [],
   "source": [
    "# Save list of words from the model and its coefficient as csv file\n",
    "coef_df(cvec_gridsearch, X, y).sort_values('exp_coef', ascending=False)\\\n",
    ".to_csv('../data/model_data/coef_df_cvec.csv', index=False)"
   ]
  },
  {
   "cell_type": "code",
   "execution_count": 60,
   "metadata": {
    "collapsed": true
   },
   "outputs": [],
   "source": [
    "# Save list of words from the model and its freqency as csv file\n",
    "best_stopwords(cvec_gridsearch, X, y, grab_all=True).to_csv('../data/model_data/all_stopwords_cvec.csv')"
   ]
  },
  {
   "cell_type": "code",
   "execution_count": 61,
   "metadata": {
    "collapsed": true
   },
   "outputs": [],
   "source": [
    "# Save result of CountVectorizer as csv file\n",
    "feat_cvec = cvec_gridsearch.best_estimator_.named_steps['cvec'].transform(X).toarray()\n",
    "feat_name_cvec = cvec_gridsearch.best_estimator_.named_steps['cvec'].get_feature_names()\n",
    "feat_df_c = pd.DataFrame(feat_cvec, columns=feat_name_cvec)\n",
    "pd.concat([feat_df_c,y], axis=1).to_csv('../data/model_data/cvec_df.csv', index=False)"
   ]
  },
  {
   "cell_type": "markdown",
   "metadata": {},
   "source": [
    "### TfidfVectorizer model\n",
    "- **TfidfVectorizer** ('tvec')\n",
    "    - Stopwords: \n",
    "        1. 'stopwords': built-in stop word\n",
    "        2. 'stopwords' + ('stopwords_005', 'stopwords_0025', 'stopwords_0005', 'stopwords_00025')\n",
    "\n",
    "    - preprosessor (in Vectorizers)\n",
    "        1. PorterStemmer()\n",
    "        2. WordNetLemmatizer()\n",
    "        3. None\n",
    "    - max_df:\n",
    "        [0.85, 0.9, 0.95] \n",
    "    - min_df': \n",
    "        [5, 10, 15, 20] \n",
    "             \n",
    "- **LogisticRegression** ('lr')\n",
    "    - C:\n",
    "       [1e-5, 1e-10, 1, 1e5 ,1e10],"
   ]
  },
  {
   "cell_type": "code",
   "execution_count": 62,
   "metadata": {
    "collapsed": true
   },
   "outputs": [],
   "source": [
    "# Make pipline for TfidfVectorizer + Logistic Regression model\n",
    "\n",
    "tvec_pipe = Pipeline([\n",
    "    ('tvec', TfidfVectorizer()),\n",
    "    ('lr', LogisticRegression())])"
   ]
  },
  {
   "cell_type": "code",
   "execution_count": 63,
   "metadata": {
    "collapsed": true
   },
   "outputs": [],
   "source": [
    "# Define dictionary of parameters.\n",
    "tvec_params = {\n",
    "    'tvec__stop_words': [stopwords, stopwords+stopwords_005 , stopwords+stopwords_0025,\n",
    "                         stopwords+stopwords_0005, stopwords+stopwords_00025],\n",
    "    'tvec__max_df': [0.85, 0.9, 0.95], # max_df: if the word shows up more than (0~1) of the posts(rows), ignore\n",
    "    'tvec__min_df': [5, 10, 15, 20], # min_df: only consider the word shows up more than x posts (rows)\n",
    "    'tvec__preprocessor': [stemmer.stem, lemmatizer.lemmatize],\n",
    "    'lr__C': [1e-5, 1e-10, 1, 1e5 ,1e10]\n",
    "}"
   ]
  },
  {
   "cell_type": "code",
   "execution_count": 64,
   "metadata": {
    "collapsed": true
   },
   "outputs": [],
   "source": [
    "# Instantiate our GridSearchCV object.\n",
    "tvec_gridsearch = GridSearchCV(tvec_pipe, # What is the model we want to fit?\n",
    "                               tvec_params, # What is the dictionary of hyperparameters?\n",
    "                               cv=5) # What number of folds in CV will we use?"
   ]
  },
  {
   "cell_type": "code",
   "execution_count": 65,
   "metadata": {
    "scrolled": false
   },
   "outputs": [
    {
     "data": {
      "text/plain": [
       "GridSearchCV(cv=5, error_score='raise',\n",
       "       estimator=Pipeline(memory=None,\n",
       "     steps=[('tvec', TfidfVectorizer(analyzer='word', binary=False, decode_error='strict',\n",
       "        dtype=<class 'numpy.int64'>, encoding='utf-8', input='content',\n",
       "        lowercase=True, max_df=1.0, max_features=None, min_df=1,\n",
       "        ngram_range=(1, 1), norm='l2', preprocessor=None, smooth_idf=True,\n",
       "  ...ty='l2', random_state=None, solver='liblinear', tol=0.0001,\n",
       "          verbose=0, warm_start=False))]),\n",
       "       fit_params=None, iid=True, n_jobs=1,\n",
       "       param_grid={'tvec__stop_words': [['about', 'cry', 'if', 'anywhere', 'own', 'via', 'mine', 'bottom', 'might', 'de', 'except', 'more', 'has', 'fifteen', 'three', 'co', 'became', 'seeming', 'thin', 'beforehand', 'keep', 'hereafter', 'and', 'sometime', 'that', 'some', 'few', 'twenty', 'ten', 'my', 'mill...tLemmatizer.lemmatize of <WordNetLemmatizer>>], 'lr__C': [1e-05, 1e-10, 1, 100000.0, 10000000000.0]},\n",
       "       pre_dispatch='2*n_jobs', refit=True, return_train_score='warn',\n",
       "       scoring=None, verbose=0)"
      ]
     },
     "execution_count": 65,
     "metadata": {},
     "output_type": "execute_result"
    }
   ],
   "source": [
    "tvec_gridsearch.fit(X_train, y_train)"
   ]
  },
  {
   "cell_type": "code",
   "execution_count": 66,
   "metadata": {},
   "outputs": [
    {
     "data": {
      "image/png": "[encoded data removed]",
      "text/plain": [
       "<Figure size 1080x360 with 1 Axes>"
      ]
     },
     "metadata": {
      "needs_background": "light"
     },
     "output_type": "display_data"
    }
   ],
   "source": [
    "auc_roc_plot(tvec_gridsearch, X_test, y_test)"
   ]
  },
  {
   "cell_type": "code",
   "execution_count": 74,
   "metadata": {},
   "outputs": [
    {
     "name": "stdout",
     "output_type": "stream",
     "text": [
      "Tf-Idf Vectorizer model result:\n",
      "Train Score is 0.902\n",
      "Test Score is 0.841\n",
      "CV Score is 0.838\n"
     ]
    }
   ],
   "source": [
    "tvec_train_score = tvec_gridsearch.score(X_train, y_train)\n",
    "tvec_test_score = tvec_gridsearch.score(X_test, y_test)\n",
    "tvec_cv_score = tvec_gridsearch.best_score_\n",
    "print(\"Tf-Idf Vectorizer model result:\")\n",
    "print(f\"Train Score is {round(tvec_train_score,3)}\")\n",
    "print(f\"Test Score is {round(tvec_test_score,3)}\")\n",
    "print(f\"CV Score is {round(tvec_cv_score,3)}\")"
   ]
  },
  {
   "cell_type": "code",
   "execution_count": 69,
   "metadata": {},
   "outputs": [
    {
     "data": {
      "text/plain": [
       "319"
      ]
     },
     "execution_count": 69,
     "metadata": {},
     "output_type": "execute_result"
    }
   ],
   "source": [
    "# Checking which stopwords list were selected\n",
    "\n",
    "len(tvec_gridsearch.best_params_['tvec__stop_words'])-len(stopwords)\n",
    "# for tvec_gridsearch, 'stopwords_0025' was selected"
   ]
  },
  {
   "cell_type": "code",
   "execution_count": 83,
   "metadata": {
    "collapsed": true
   },
   "outputs": [],
   "source": [
    "# Save list of words from the model and its coefficient as csv file\n",
    "\n",
    "coef_df(tvec_gridsearch, X, y, vect_str='tvec').sort_values('exp_coef', ascending=False)\\\n",
    ".to_csv('../data/model_data/coef_df_tvec.csv', index=False)"
   ]
  },
  {
   "cell_type": "code",
   "execution_count": 71,
   "metadata": {
    "collapsed": true
   },
   "outputs": [],
   "source": [
    "# Save list of words from the model and its freqency as csv file\n",
    "\n",
    "best_stopwords(tvec_gridsearch, X, y, grab_all=True, vect_str='tvec').to_csv('../data/model_data/all_stopwords_tvec.csv')\n",
    "\n",
    "## best_stopwords function's result on Tfidf Vectorizer model is not accurate"
   ]
  },
  {
   "cell_type": "code",
   "execution_count": 72,
   "metadata": {
    "collapsed": true
   },
   "outputs": [],
   "source": [
    "# Save result of TfidfVectorizer as csv file\n",
    "\n",
    "feat_tvec = tvec_gridsearch.best_estimator_.named_steps['tvec'].transform(X).toarray()\n",
    "feat_name_tvec = tvec_gridsearch.best_estimator_.named_steps['tvec'].get_feature_names()\n",
    "feat_df_t = pd.DataFrame(feat_tvec, columns=feat_name_tvec)\n",
    "pd.concat([feat_df_t,y], axis=1).to_csv('../data/model_data/tvec_df.csv', index=False)"
   ]
  },
  {
   "cell_type": "markdown",
   "metadata": {},
   "source": [
    "-----\n",
    "# Observations\n",
    "\n",
    "|               | Count Vectorizer & Logistic model | Tf - Idf Vectorizer & Logistic model |\n",
    "|---------------|-----------------------|--------------------------|\n",
    "| Train Score   | 0.947                 | 0.902                    |\n",
    "| Test Score    | 0.832                 | 0.841                    |\n",
    "| CV Score      | 0.834                 | 0.837                    |\n",
    "| AUC ROC score | 0.928                 | 0.934                    |\n",
    "\n",
    "** Tf-Idf Vectorizer model works better**\n",
    "    - Tf-Idf Vectorizer model scored higher on Test, CV and AUC ROC score than Count Vectorizer model.\n",
    "    - Although Count Vectorizer model has higher train score, it appears to be more overfit than Tf-Idf model."
   ]
  }
 ],
 "metadata": {
  "kernelspec": {
   "display_name": "Python 3",
   "language": "python",
   "name": "python3"
  },
  "language_info": {
   "codemirror_mode": {
    "name": "ipython",
    "version": 3
   },
   "file_extension": ".py",
   "mimetype": "text/x-python",
   "name": "python",
   "nbconvert_exporter": "python",
   "pygments_lexer": "ipython3",
   "version": "3.6.9"
  }
 },
 "nbformat": 4,
 "nbformat_minor": 2
}
