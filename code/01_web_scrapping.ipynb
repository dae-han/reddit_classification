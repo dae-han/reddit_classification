{
 "cells": [
  {
   "cell_type": "markdown",
   "metadata": {},
   "source": [
    "## Import Libraries"
   ]
  },
  {
   "cell_type": "code",
   "execution_count": 2,
   "metadata": {},
   "outputs": [],
   "source": [
    "import pandas as pd\n",
    "import requests, json, time, datetime\n",
    "\n",
    "import praw"
   ]
  },
  {
   "cell_type": "markdown",
   "metadata": {},
   "source": [
    "## PRAW Authorization\n",
    "\n",
    "- **Step 1** Log into your Reddit account here: https://www.reddit.com/prefs/apps to identify your id, secret, username and password.\n",
    "\n",
    "- **Step 2** Save your credential as following in a json file.\n",
    "\n",
    "```\n",
    "{\"id\": \"Enter your id\" ,\n",
    "\"secret\": \"Enter your secret\",\n",
    "\"user\": \"Enter your username\",\n",
    "\"pass\": \"Enter your password\"}```\n",
    "\n",
    "- **Step 3** Name the json file \"creds.json\" and save it in the directory this jupyter notebook is located."
   ]
  },
  {
   "cell_type": "code",
   "execution_count": 3,
   "metadata": {},
   "outputs": [],
   "source": [
    "# Use your reddit credentials to instantiate the reddit class from PRAW\n",
    "\n",
    "creds_file = open('../assets/creds.json', 'r')\n",
    "\n",
    "reddit_creds = json.loads(creds_file.read())"
   ]
  },
  {
   "cell_type": "code",
   "execution_count": 4,
   "metadata": {},
   "outputs": [
    {
     "data": {
      "text/plain": [
       "False"
      ]
     },
     "execution_count": 4,
     "metadata": {},
     "output_type": "execute_result"
    }
   ],
   "source": [
    "# Check if logged in\n",
    "reddit = praw.Reddit(\n",
    "    client_id = reddit_creds['id'],\n",
    "    client_secret = reddit_creds['secret'],\n",
    "    username = reddit_creds['user'],\n",
    "    password = reddit_creds['pass'],\n",
    "    user_agent = 'dae')\n",
    "\n",
    "# Return False, if you're logged in\n",
    "reddit.read_only"
   ]
  },
  {
   "cell_type": "markdown",
   "metadata": {},
   "source": [
    "## Scrapping\n",
    "\n",
    "### Function: scrape_reddits_new()\n",
    "\n",
    "Use class **subreddit** to scrape 'new' items.\n",
    "\n",
    "The following from Reddit posts were collected.\n",
    "- *title*: Title of the reddit post\n",
    "- *body*: Body of the reddit post\n",
    "- *coms*: Comments on the reddit post\n",
    "- *num_coms*: Number of comments in the reddit post\n",
    "- *age*: Number of days the reddit has been up since it was scraped.\n",
    "- *subreddit*: Subreddit name\n",
    "___\n",
    "### Parameters\n",
    "- `subreddit_name`: *str* | subreddit name\n",
    "- `save_csv`: *boolean* | if True, save resulting dataframe as csv\n",
    "- `save_path`: *str* | path to the directory to save resulting dataframe\n",
    "\n",
    "Visit the documentation page for subreddit class [here](https://praw.readthedocs.io/en/latest/code_overview/models/subreddit.html)."
   ]
  },
  {
   "cell_type": "code",
   "execution_count": 13,
   "metadata": {},
   "outputs": [],
   "source": [
    "def scrape_reddits_new(subreddit_name ,save_csv = False, save_path = './'):\n",
    "    red = reddit.subreddit(subreddit_name)\n",
    "    new_spot = [i for i in red.new(limit = 2_000)]\n",
    "\n",
    "    title = [post.title for post in new_spot]\n",
    "    body = [post.selftext for post in new_spot]\n",
    "    num_coms = [post.num_comments for post in new_spot]\n",
    "    coms = [[comment.body for comment in post.comments] \\\n",
    "            if (post.num_comments > 0) else 0 for post in new_spot]\n",
    "    age = [(time.time() - post.created_utc)/60/1440 for post in new_spot]\n",
    "    \n",
    "    spot_dict = {\n",
    "        'title': title,\n",
    "        'body': body,\n",
    "        'coms': coms,\n",
    "        'num_coms': num_coms,\n",
    "        'age': age,\n",
    "        'subreddit': 'spotify'} \n",
    "    \n",
    "    spot_df = pd.DataFrame(spot_dict)\n",
    "    \n",
    "    if save_csv:\n",
    "        spot_df.to_csv(save_path ,index=False)\n",
    "    \n",
    "    return pd.DataFrame(spot_dict)"
   ]
  },
  {
   "cell_type": "markdown",
   "metadata": {},
   "source": [
    "### Scrape hot items from Spotify subreddit"
   ]
  },
  {
   "cell_type": "code",
   "execution_count": 20,
   "metadata": {},
   "outputs": [],
   "source": [
    "spot= reddit.subreddit('Spotify')"
   ]
  },
  {
   "cell_type": "code",
   "execution_count": 21,
   "metadata": {},
   "outputs": [],
   "source": [
    "hot_spot = [i for i in spot.hot(limit = 2_000)]"
   ]
  },
  {
   "cell_type": "code",
   "execution_count": 22,
   "metadata": {},
   "outputs": [],
   "source": [
    "title = [post.title for post in hot_spot]\n",
    "body = [post.selftext for post in hot_spot]\n",
    "\n",
    "num_coms = [post.num_comments for post in hot_spot]\n",
    "coms = [[comment.body for comment in post.comments] \\\n",
    "        if (post.num_comments > 0) else 0 for post in hot_spot]\n",
    "age = [(time.time() - post.created_utc)/60/1440 for post in hot_spot]"
   ]
  },
  {
   "cell_type": "code",
   "execution_count": 23,
   "metadata": {},
   "outputs": [],
   "source": [
    "spot_dict = {\n",
    "    'title': title,\n",
    "    'body': body,\n",
    "    'coms': coms,\n",
    "    'num_coms': num_coms,\n",
    "    'age': age,\n",
    "    'subreddit': 'spotify'} "
   ]
  },
  {
   "cell_type": "code",
   "execution_count": 24,
   "metadata": {},
   "outputs": [],
   "source": [
    "spot_df = pd.DataFrame(spot_dict)"
   ]
  },
  {
   "cell_type": "code",
   "execution_count": 26,
   "metadata": {},
   "outputs": [],
   "source": [
    "spot_df.to_csv('../data/web_data/spot_hot_101419.csv',index=False)"
   ]
  },
  {
   "cell_type": "markdown",
   "metadata": {},
   "source": [
    "### Scrape controversial items from Spotify subreddit"
   ]
  },
  {
   "cell_type": "code",
   "execution_count": 38,
   "metadata": {
    "collapsed": true
   },
   "outputs": [],
   "source": [
    "cont_spot = [i for i in spot.controversial(limit = 2_000)]"
   ]
  },
  {
   "cell_type": "code",
   "execution_count": 39,
   "metadata": {
    "collapsed": true
   },
   "outputs": [],
   "source": [
    "title = [post.title for post in cont_spot]\n",
    "body = [post.selftext for post in cont_spot]\n",
    "num_coms = [post.num_comments for post in cont_spot]\n",
    "coms = [[comment.body for comment in post.comments] \\\n",
    "        if (post.num_comments > 0) else 0 for post in cont_spot]\n",
    "age = [(time.time() - post.created_utc)/60/1440 for post in cont_spot]"
   ]
  },
  {
   "cell_type": "code",
   "execution_count": 40,
   "metadata": {
    "collapsed": true
   },
   "outputs": [],
   "source": [
    "spot_dict = {\n",
    "    'title': title,\n",
    "    'body': body,\n",
    "    'coms': coms,\n",
    "    'num_coms': num_coms,\n",
    "    'age': age,\n",
    "    'subreddit': 'spotify'\n",
    "    } "
   ]
  },
  {
   "cell_type": "code",
   "execution_count": 41,
   "metadata": {
    "collapsed": true
   },
   "outputs": [],
   "source": [
    "spot_df = pd.DataFrame(spot_dict)"
   ]
  },
  {
   "cell_type": "code",
   "execution_count": 44,
   "metadata": {
    "collapsed": true
   },
   "outputs": [],
   "source": [
    "spot_df.to_csv('../data/web_data/spot_cont_101419.csv',index=False)"
   ]
  },
  {
   "cell_type": "markdown",
   "metadata": {},
   "source": [
    "### Scrape new items from Spotify subreddit \n",
    "use 'scrap_reddits_new()'"
   ]
  },
  {
   "cell_type": "code",
   "execution_count": 15,
   "metadata": {},
   "outputs": [],
   "source": [
    "spot_df = scrape_reddits_new('spotify', save_csv = True, save_path = '../data/spot_new_101419.csv')"
   ]
  },
  {
   "cell_type": "code",
   "execution_count": 16,
   "metadata": {
    "scrolled": true
   },
   "outputs": [
    {
     "data": {
      "text/html": [
       "<div>\n",
       "<style scoped>\n",
       "    .dataframe tbody tr th:only-of-type {\n",
       "        vertical-align: middle;\n",
       "    }\n",
       "\n",
       "    .dataframe tbody tr th {\n",
       "        vertical-align: top;\n",
       "    }\n",
       "\n",
       "    .dataframe thead th {\n",
       "        text-align: right;\n",
       "    }\n",
       "</style>\n",
       "<table border=\"1\" class=\"dataframe\">\n",
       "  <thead>\n",
       "    <tr style=\"text-align: right;\">\n",
       "      <th></th>\n",
       "      <th>title</th>\n",
       "      <th>body</th>\n",
       "      <th>coms</th>\n",
       "      <th>num_coms</th>\n",
       "      <th>age</th>\n",
       "      <th>subreddit</th>\n",
       "    </tr>\n",
       "  </thead>\n",
       "  <tbody>\n",
       "    <tr>\n",
       "      <th>0</th>\n",
       "      <td>Melodic rap playlist, your goto spot for daily...</td>\n",
       "      <td></td>\n",
       "      <td>0</td>\n",
       "      <td>0</td>\n",
       "      <td>0.017879</td>\n",
       "      <td>spotify</td>\n",
       "    </tr>\n",
       "    <tr>\n",
       "      <th>1</th>\n",
       "      <td>Southern Rock and American Rock</td>\n",
       "      <td></td>\n",
       "      <td>0</td>\n",
       "      <td>0</td>\n",
       "      <td>0.019338</td>\n",
       "      <td>spotify</td>\n",
       "    </tr>\n",
       "    <tr>\n",
       "      <th>2</th>\n",
       "      <td>Spotify from Pandora</td>\n",
       "      <td>How do I make awful songs go away! Such bad mu...</td>\n",
       "      <td>0</td>\n",
       "      <td>0</td>\n",
       "      <td>0.022393</td>\n",
       "      <td>spotify</td>\n",
       "    </tr>\n",
       "    <tr>\n",
       "      <th>3</th>\n",
       "      <td>I literally can't find a way to listen to a fu...</td>\n",
       "      <td>I have spotify free, so I can't really go that...</td>\n",
       "      <td>[uninterrupted*, sorry, You need Spotify premi...</td>\n",
       "      <td>5</td>\n",
       "      <td>0.035148</td>\n",
       "      <td>spotify</td>\n",
       "    </tr>\n",
       "    <tr>\n",
       "      <th>4</th>\n",
       "      <td>Acoustic Guitar Attic - Beautiful acoustic ins...</td>\n",
       "      <td></td>\n",
       "      <td>0</td>\n",
       "      <td>0</td>\n",
       "      <td>0.044037</td>\n",
       "      <td>spotify</td>\n",
       "    </tr>\n",
       "  </tbody>\n",
       "</table>\n",
       "</div>"
      ],
      "text/plain": [
       "                                               title  \\\n",
       "0  Melodic rap playlist, your goto spot for daily...   \n",
       "1                    Southern Rock and American Rock   \n",
       "2                               Spotify from Pandora   \n",
       "3  I literally can't find a way to listen to a fu...   \n",
       "4  Acoustic Guitar Attic - Beautiful acoustic ins...   \n",
       "\n",
       "                                                body  \\\n",
       "0                                                      \n",
       "1                                                      \n",
       "2  How do I make awful songs go away! Such bad mu...   \n",
       "3  I have spotify free, so I can't really go that...   \n",
       "4                                                      \n",
       "\n",
       "                                                coms  num_coms       age  \\\n",
       "0                                                  0         0  0.017879   \n",
       "1                                                  0         0  0.019338   \n",
       "2                                                  0         0  0.022393   \n",
       "3  [uninterrupted*, sorry, You need Spotify premi...         5  0.035148   \n",
       "4                                                  0         0  0.044037   \n",
       "\n",
       "  subreddit  \n",
       "0   spotify  \n",
       "1   spotify  \n",
       "2   spotify  \n",
       "3   spotify  \n",
       "4   spotify  "
      ]
     },
     "execution_count": 16,
     "metadata": {},
     "output_type": "execute_result"
    }
   ],
   "source": [
    "spot_df.head()"
   ]
  },
  {
   "cell_type": "markdown",
   "metadata": {},
   "source": [
    "### Scrape hot items from Apple Music subreddit"
   ]
  },
  {
   "cell_type": "code",
   "execution_count": 56,
   "metadata": {
    "scrolled": true
   },
   "outputs": [
    {
     "data": {
      "text/plain": [
       "<praw.models.listing.generator.ListingGenerator at 0x1107f3198>"
      ]
     },
     "execution_count": 56,
     "metadata": {},
     "output_type": "execute_result"
    }
   ],
   "source": [
    "app.hot(limit = 2_000)"
   ]
  },
  {
   "cell_type": "code",
   "execution_count": 57,
   "metadata": {
    "collapsed": true
   },
   "outputs": [],
   "source": [
    "hot_app = [i for i in app.hot(limit = 2_000)]"
   ]
  },
  {
   "cell_type": "code",
   "execution_count": 58,
   "metadata": {
    "collapsed": true
   },
   "outputs": [],
   "source": [
    "title = [post.title for post in hot_app]\n",
    "body = [post.selftext for post in hot_app]\n",
    "num_coms = [post.num_comments for post in hot_app]\n",
    "coms = [[comment.body for comment in post.comments] \\\n",
    "        if (post.num_comments > 0) else 0 for post in hot_app]\n",
    "age = [(time.time() - post.created_utc)/60/1440 for post in hot_app]"
   ]
  },
  {
   "cell_type": "code",
   "execution_count": 59,
   "metadata": {
    "collapsed": true
   },
   "outputs": [],
   "source": [
    "app_dict = {\n",
    "    'title': title,\n",
    "    'body': body,\n",
    "    'coms': coms,\n",
    "    'num_coms': num_coms,\n",
    "    'age': age,\n",
    "    'subreddit': 'apple_music'} "
   ]
  },
  {
   "cell_type": "code",
   "execution_count": 60,
   "metadata": {
    "collapsed": true
   },
   "outputs": [],
   "source": [
    "app_df = pd.DataFrame(app_dict)"
   ]
  },
  {
   "cell_type": "code",
   "execution_count": 63,
   "metadata": {
    "collapsed": true
   },
   "outputs": [],
   "source": [
    "app_df.to_csv('../data/web_data/app_hot_101419.csv',index=False)"
   ]
  },
  {
   "cell_type": "markdown",
   "metadata": {},
   "source": [
    "### Scrape controversial items from Apple Music subreddit"
   ]
  },
  {
   "cell_type": "code",
   "execution_count": 64,
   "metadata": {
    "scrolled": true
   },
   "outputs": [
    {
     "data": {
      "text/plain": [
       "<praw.models.listing.generator.ListingGenerator at 0x111d1a080>"
      ]
     },
     "execution_count": 64,
     "metadata": {},
     "output_type": "execute_result"
    }
   ],
   "source": [
    "app.controversial(limit = 2_000)"
   ]
  },
  {
   "cell_type": "code",
   "execution_count": 65,
   "metadata": {
    "collapsed": true
   },
   "outputs": [],
   "source": [
    "cont_app = [i for i in app.controversial(limit = 2_000)]"
   ]
  },
  {
   "cell_type": "code",
   "execution_count": 66,
   "metadata": {
    "collapsed": true
   },
   "outputs": [],
   "source": [
    "title = [post.title for post in cont_app]\n",
    "body = [post.selftext for post in cont_app]\n",
    "num_coms = [post.num_comments for post in cont_app]\n",
    "coms = [[comment.body for comment in post.comments] \\\n",
    "        if (post.num_comments > 0) else 0 for post in cont_app]\n",
    "age = [(time.time() - post.created_utc)/60/1440 for post in cont_app]"
   ]
  },
  {
   "cell_type": "code",
   "execution_count": 67,
   "metadata": {
    "collapsed": true
   },
   "outputs": [],
   "source": [
    "app_dict = {\n",
    "    'title': title,\n",
    "    'body': body,\n",
    "    'coms': coms,\n",
    "    'num_coms': num_coms,\n",
    "    'age': age,\n",
    "    'subreddit': 'apple_music'} "
   ]
  },
  {
   "cell_type": "code",
   "execution_count": 68,
   "metadata": {
    "collapsed": true
   },
   "outputs": [],
   "source": [
    "app_df = pd.DataFrame(app_dict)"
   ]
  },
  {
   "cell_type": "code",
   "execution_count": 71,
   "metadata": {
    "collapsed": true
   },
   "outputs": [],
   "source": [
    "app_df.to_csv('../data/web_data/app_cont_101419.csv',index=False)"
   ]
  },
  {
   "cell_type": "markdown",
   "metadata": {},
   "source": [
    "### Scrape new items from AppleMusic subreddit \n",
    "use 'scrap_reddits_new()'"
   ]
  },
  {
   "cell_type": "code",
   "execution_count": 27,
   "metadata": {},
   "outputs": [],
   "source": [
    "app_df = scrape_reddits_new('AppleMusic', save_csv = True, save_path = '../data/app_new_101419.csv')"
   ]
  },
  {
   "cell_type": "code",
   "execution_count": 29,
   "metadata": {},
   "outputs": [
    {
     "data": {
      "text/html": [
       "<div>\n",
       "<style scoped>\n",
       "    .dataframe tbody tr th:only-of-type {\n",
       "        vertical-align: middle;\n",
       "    }\n",
       "\n",
       "    .dataframe tbody tr th {\n",
       "        vertical-align: top;\n",
       "    }\n",
       "\n",
       "    .dataframe thead th {\n",
       "        text-align: right;\n",
       "    }\n",
       "</style>\n",
       "<table border=\"1\" class=\"dataframe\">\n",
       "  <thead>\n",
       "    <tr style=\"text-align: right;\">\n",
       "      <th></th>\n",
       "      <th>title</th>\n",
       "      <th>body</th>\n",
       "      <th>coms</th>\n",
       "      <th>num_coms</th>\n",
       "      <th>age</th>\n",
       "      <th>subreddit</th>\n",
       "    </tr>\n",
       "  </thead>\n",
       "  <tbody>\n",
       "    <tr>\n",
       "      <th>0</th>\n",
       "      <td>Bedroom Diamonds, slow tunes for fast nights (...</td>\n",
       "      <td></td>\n",
       "      <td>0</td>\n",
       "      <td>0</td>\n",
       "      <td>0.035848</td>\n",
       "      <td>spotify</td>\n",
       "    </tr>\n",
       "    <tr>\n",
       "      <th>1</th>\n",
       "      <td>To get you through the dark days of fall and w...</td>\n",
       "      <td></td>\n",
       "      <td>0</td>\n",
       "      <td>0</td>\n",
       "      <td>0.074054</td>\n",
       "      <td>spotify</td>\n",
       "    </tr>\n",
       "    <tr>\n",
       "      <th>2</th>\n",
       "      <td>Brandon Kai &amp; Kory Ryan - Overtime #Newmusic</td>\n",
       "      <td>[https://music.apple.com/us/album/overtime-sin...</td>\n",
       "      <td>0</td>\n",
       "      <td>0</td>\n",
       "      <td>0.109031</td>\n",
       "      <td>spotify</td>\n",
       "    </tr>\n",
       "    <tr>\n",
       "      <th>3</th>\n",
       "      <td>Switching from Google Play Music - Questions</td>\n",
       "      <td>In light of Google's recent news to end GPM an...</td>\n",
       "      <td>[Yeah, you can have it all in the same playlis...</td>\n",
       "      <td>7</td>\n",
       "      <td>0.254355</td>\n",
       "      <td>spotify</td>\n",
       "    </tr>\n",
       "    <tr>\n",
       "      <th>4</th>\n",
       "      <td>Apple Music gone haywire after App Store count...</td>\n",
       "      <td>Switched countries on the App Store and Apple ...</td>\n",
       "      <td>[I just want the service im paying for..., Did...</td>\n",
       "      <td>3</td>\n",
       "      <td>0.260142</td>\n",
       "      <td>spotify</td>\n",
       "    </tr>\n",
       "  </tbody>\n",
       "</table>\n",
       "</div>"
      ],
      "text/plain": [
       "                                               title  \\\n",
       "0  Bedroom Diamonds, slow tunes for fast nights (...   \n",
       "1  To get you through the dark days of fall and w...   \n",
       "2       Brandon Kai & Kory Ryan - Overtime #Newmusic   \n",
       "3       Switching from Google Play Music - Questions   \n",
       "4  Apple Music gone haywire after App Store count...   \n",
       "\n",
       "                                                body  \\\n",
       "0                                                      \n",
       "1                                                      \n",
       "2  [https://music.apple.com/us/album/overtime-sin...   \n",
       "3  In light of Google's recent news to end GPM an...   \n",
       "4  Switched countries on the App Store and Apple ...   \n",
       "\n",
       "                                                coms  num_coms       age  \\\n",
       "0                                                  0         0  0.035848   \n",
       "1                                                  0         0  0.074054   \n",
       "2                                                  0         0  0.109031   \n",
       "3  [Yeah, you can have it all in the same playlis...         7  0.254355   \n",
       "4  [I just want the service im paying for..., Did...         3  0.260142   \n",
       "\n",
       "  subreddit  \n",
       "0   spotify  \n",
       "1   spotify  \n",
       "2   spotify  \n",
       "3   spotify  \n",
       "4   spotify  "
      ]
     },
     "execution_count": 29,
     "metadata": {},
     "output_type": "execute_result"
    }
   ],
   "source": [
    "app_df.head()"
   ]
  },
  {
   "cell_type": "markdown",
   "metadata": {},
   "source": [
    "# Result\n",
    "\n",
    "'new', 'hot', and 'controversial' items from 'Spotify' and 'AppleMusic' Subreddits were scraped. I scraped 'new' items daily using 'scrap_reddits_new()' function to collect new reddit posts. A total of 7368 reddit posts were scraped."
   ]
  }
 ],
 "metadata": {
  "kernelspec": {
   "display_name": "Python 3",
   "language": "python",
   "name": "python3"
  },
  "language_info": {
   "codemirror_mode": {
    "name": "ipython",
    "version": 3
   },
   "file_extension": ".py",
   "mimetype": "text/x-python",
   "name": "python",
   "nbconvert_exporter": "python",
   "pygments_lexer": "ipython3",
   "version": "3.6.9"
  }
 },
 "nbformat": 4,
 "nbformat_minor": 2
}
